{
 "cells": [
  {
   "cell_type": "code",
   "execution_count": 1,
   "id": "9d9691d9",
   "metadata": {},
   "outputs": [],
   "source": [
    "#intall the dependencies\n",
    "import numpy as np\n",
    "import pandas as pd\n",
    "from sklearn.tree import DecisionTreeRegressor\n",
    "from sklearn.linear_model import LinearRegression\n",
    "from sklearn.model_selection import train_test_split\n",
    "import matplotlib.pyplot as plt\n",
    "plt.style.use('bmh')"
   ]
  },
  {
   "cell_type": "code",
   "execution_count": 2,
   "id": "422f9b94",
   "metadata": {},
   "outputs": [
    {
     "data": {
      "text/html": [
       "<div>\n",
       "<style scoped>\n",
       "    .dataframe tbody tr th:only-of-type {\n",
       "        vertical-align: middle;\n",
       "    }\n",
       "\n",
       "    .dataframe tbody tr th {\n",
       "        vertical-align: top;\n",
       "    }\n",
       "\n",
       "    .dataframe thead th {\n",
       "        text-align: right;\n",
       "    }\n",
       "</style>\n",
       "<table border=\"1\" class=\"dataframe\">\n",
       "  <thead>\n",
       "    <tr style=\"text-align: right;\">\n",
       "      <th></th>\n",
       "      <th>Year</th>\n",
       "      <th>growth rate</th>\n",
       "      <th>Total Number(TN)</th>\n",
       "      <th>TN by Air</th>\n",
       "      <th>TN by Land</th>\n",
       "      <th>Average stay(days)</th>\n",
       "    </tr>\n",
       "  </thead>\n",
       "  <tbody>\n",
       "    <tr>\n",
       "      <th>0</th>\n",
       "      <td>1964</td>\n",
       "      <td>30.9</td>\n",
       "      <td>9526</td>\n",
       "      <td>8435</td>\n",
       "      <td>1091</td>\n",
       "      <td>NaN</td>\n",
       "    </tr>\n",
       "    <tr>\n",
       "      <th>1</th>\n",
       "      <td>1965</td>\n",
       "      <td>-1.4</td>\n",
       "      <td>9388</td>\n",
       "      <td>8303</td>\n",
       "      <td>1085</td>\n",
       "      <td>NaN</td>\n",
       "    </tr>\n",
       "    <tr>\n",
       "      <th>2</th>\n",
       "      <td>1966</td>\n",
       "      <td>33.9</td>\n",
       "      <td>12567</td>\n",
       "      <td>11206</td>\n",
       "      <td>1361</td>\n",
       "      <td>NaN</td>\n",
       "    </tr>\n",
       "    <tr>\n",
       "      <th>3</th>\n",
       "      <td>1967</td>\n",
       "      <td>44.0</td>\n",
       "      <td>18093</td>\n",
       "      <td>15064</td>\n",
       "      <td>3029</td>\n",
       "      <td>NaN</td>\n",
       "    </tr>\n",
       "    <tr>\n",
       "      <th>4</th>\n",
       "      <td>1968</td>\n",
       "      <td>33.8</td>\n",
       "      <td>24209</td>\n",
       "      <td>19717</td>\n",
       "      <td>4492</td>\n",
       "      <td>NaN</td>\n",
       "    </tr>\n",
       "  </tbody>\n",
       "</table>\n",
       "</div>"
      ],
      "text/plain": [
       "   Year  growth rate  Total Number(TN)  TN by Air  TN by Land  \\\n",
       "0  1964         30.9              9526       8435        1091   \n",
       "1  1965         -1.4              9388       8303        1085   \n",
       "2  1966         33.9             12567      11206        1361   \n",
       "3  1967         44.0             18093      15064        3029   \n",
       "4  1968         33.8             24209      19717        4492   \n",
       "\n",
       "   Average stay(days)  \n",
       "0                 NaN  \n",
       "1                 NaN  \n",
       "2                 NaN  \n",
       "3                 NaN  \n",
       "4                 NaN  "
      ]
     },
     "execution_count": 2,
     "metadata": {},
     "output_type": "execute_result"
    }
   ],
   "source": [
    "#load and store the data in data frame\n",
    "df = pd.read_csv(\"filepath\")\n",
    "df.head()"
   ]
  },
  {
   "cell_type": "code",
   "execution_count": 3,
   "id": "cac2e0f7",
   "metadata": {},
   "outputs": [
    {
     "data": {
      "text/html": [
       "<div>\n",
       "<style scoped>\n",
       "    .dataframe tbody tr th:only-of-type {\n",
       "        vertical-align: middle;\n",
       "    }\n",
       "\n",
       "    .dataframe tbody tr th {\n",
       "        vertical-align: top;\n",
       "    }\n",
       "\n",
       "    .dataframe thead th {\n",
       "        text-align: right;\n",
       "    }\n",
       "</style>\n",
       "<table border=\"1\" class=\"dataframe\">\n",
       "  <thead>\n",
       "    <tr style=\"text-align: right;\">\n",
       "      <th></th>\n",
       "      <th>Year</th>\n",
       "      <th>growth rate</th>\n",
       "      <th>Total Number(TN)</th>\n",
       "      <th>TN by Air</th>\n",
       "      <th>TN by Land</th>\n",
       "      <th>Average stay(days)</th>\n",
       "    </tr>\n",
       "  </thead>\n",
       "  <tbody>\n",
       "    <tr>\n",
       "      <th>49</th>\n",
       "      <td>2013</td>\n",
       "      <td>-0.7</td>\n",
       "      <td>797616</td>\n",
       "      <td>594848</td>\n",
       "      <td>202768</td>\n",
       "      <td>12.60</td>\n",
       "    </tr>\n",
       "    <tr>\n",
       "      <th>50</th>\n",
       "      <td>2014</td>\n",
       "      <td>-0.9</td>\n",
       "      <td>790118</td>\n",
       "      <td>585981</td>\n",
       "      <td>204137</td>\n",
       "      <td>12.44</td>\n",
       "    </tr>\n",
       "    <tr>\n",
       "      <th>51</th>\n",
       "      <td>2015</td>\n",
       "      <td>-32.0</td>\n",
       "      <td>538970</td>\n",
       "      <td>407412</td>\n",
       "      <td>131558</td>\n",
       "      <td>13.16</td>\n",
       "    </tr>\n",
       "    <tr>\n",
       "      <th>52</th>\n",
       "      <td>2016</td>\n",
       "      <td>40.0</td>\n",
       "      <td>753002</td>\n",
       "      <td>572563</td>\n",
       "      <td>180439</td>\n",
       "      <td>13.40</td>\n",
       "    </tr>\n",
       "    <tr>\n",
       "      <th>53</th>\n",
       "      <td>2017</td>\n",
       "      <td>25.0</td>\n",
       "      <td>940218</td>\n",
       "      <td>760577</td>\n",
       "      <td>179641</td>\n",
       "      <td>12.60</td>\n",
       "    </tr>\n",
       "  </tbody>\n",
       "</table>\n",
       "</div>"
      ],
      "text/plain": [
       "    Year  growth rate  Total Number(TN)  TN by Air  TN by Land  \\\n",
       "49  2013         -0.7            797616     594848      202768   \n",
       "50  2014         -0.9            790118     585981      204137   \n",
       "51  2015        -32.0            538970     407412      131558   \n",
       "52  2016         40.0            753002     572563      180439   \n",
       "53  2017         25.0            940218     760577      179641   \n",
       "\n",
       "    Average stay(days)  \n",
       "49               12.60  \n",
       "50               12.44  \n",
       "51               13.16  \n",
       "52               13.40  \n",
       "53               12.60  "
      ]
     },
     "execution_count": 3,
     "metadata": {},
     "output_type": "execute_result"
    }
   ],
   "source": [
    "#fill the null values of column 'Average stay(days)' with mean value\n",
    "df = df.fillna(df['Average stay(days)'].mean())\n",
    "\n",
    "# removing last two data considering them as outlier and storing them in new data frame\n",
    "df2 = df.iloc[:-2,:]\n",
    "df2.tail()"
   ]
  },
  {
   "cell_type": "code",
   "execution_count": 4,
   "id": "81298ada",
   "metadata": {},
   "outputs": [
    {
     "data": {
      "image/png": "[encoded data removed]",
      "text/plain": [
       "<Figure size 1600x800 with 1 Axes>"
      ]
     },
     "metadata": {},
     "output_type": "display_data"
    }
   ],
   "source": [
    "#visualizing the Total Number(TN)\n",
    "plt.figure(figsize=(16,8))\n",
    "plt.title('Immi Data')\n",
    "plt.xlabel('Total Number(TN)')\n",
    "plt.ylabel('Year')\n",
    "plt.plot(df2['Year'], df2['Total Number(TN)'])\n",
    "plt.show()"
   ]
  },
  {
   "cell_type": "code",
   "execution_count": 80,
   "id": "17977cb1",
   "metadata": {},
   "outputs": [
    {
     "data": {
      "text/html": [
       "<div>\n",
       "<style scoped>\n",
       "    .dataframe tbody tr th:only-of-type {\n",
       "        vertical-align: middle;\n",
       "    }\n",
       "\n",
       "    .dataframe tbody tr th {\n",
       "        vertical-align: top;\n",
       "    }\n",
       "\n",
       "    .dataframe thead th {\n",
       "        text-align: right;\n",
       "    }\n",
       "</style>\n",
       "<table border=\"1\" class=\"dataframe\">\n",
       "  <thead>\n",
       "    <tr style=\"text-align: right;\">\n",
       "      <th></th>\n",
       "      <th>Total Number(TN)</th>\n",
       "    </tr>\n",
       "  </thead>\n",
       "  <tbody>\n",
       "    <tr>\n",
       "      <th>0</th>\n",
       "      <td>9526</td>\n",
       "    </tr>\n",
       "    <tr>\n",
       "      <th>1</th>\n",
       "      <td>9388</td>\n",
       "    </tr>\n",
       "    <tr>\n",
       "      <th>2</th>\n",
       "      <td>12567</td>\n",
       "    </tr>\n",
       "    <tr>\n",
       "      <th>3</th>\n",
       "      <td>18093</td>\n",
       "    </tr>\n",
       "    <tr>\n",
       "      <th>4</th>\n",
       "      <td>24209</td>\n",
       "    </tr>\n",
       "  </tbody>\n",
       "</table>\n",
       "</div>"
      ],
      "text/plain": [
       "   Total Number(TN)\n",
       "0              9526\n",
       "1              9388\n",
       "2             12567\n",
       "3             18093\n",
       "4             24209"
      ]
     },
     "execution_count": 80,
     "metadata": {},
     "output_type": "execute_result"
    }
   ],
   "source": [
    "#get the Total Number(TN)\n",
    "df2 = df2[['Total Number(TN)']]\n",
    "df2.head()"
   ]
  },
  {
   "cell_type": "code",
   "execution_count": 81,
   "id": "58a37387",
   "metadata": {},
   "outputs": [
    {
     "data": {
      "text/html": [
       "<div>\n",
       "<style scoped>\n",
       "    .dataframe tbody tr th:only-of-type {\n",
       "        vertical-align: middle;\n",
       "    }\n",
       "\n",
       "    .dataframe tbody tr th {\n",
       "        vertical-align: top;\n",
       "    }\n",
       "\n",
       "    .dataframe thead th {\n",
       "        text-align: right;\n",
       "    }\n",
       "</style>\n",
       "<table border=\"1\" class=\"dataframe\">\n",
       "  <thead>\n",
       "    <tr style=\"text-align: right;\">\n",
       "      <th></th>\n",
       "      <th>Total Number(TN)</th>\n",
       "      <th>Prediction</th>\n",
       "    </tr>\n",
       "  </thead>\n",
       "  <tbody>\n",
       "    <tr>\n",
       "      <th>49</th>\n",
       "      <td>797616</td>\n",
       "      <td>538970.0</td>\n",
       "    </tr>\n",
       "    <tr>\n",
       "      <th>50</th>\n",
       "      <td>790118</td>\n",
       "      <td>753002.0</td>\n",
       "    </tr>\n",
       "    <tr>\n",
       "      <th>51</th>\n",
       "      <td>538970</td>\n",
       "      <td>940218.0</td>\n",
       "    </tr>\n",
       "    <tr>\n",
       "      <th>52</th>\n",
       "      <td>753002</td>\n",
       "      <td>NaN</td>\n",
       "    </tr>\n",
       "    <tr>\n",
       "      <th>53</th>\n",
       "      <td>940218</td>\n",
       "      <td>NaN</td>\n",
       "    </tr>\n",
       "  </tbody>\n",
       "</table>\n",
       "</div>"
      ],
      "text/plain": [
       "    Total Number(TN)  Prediction\n",
       "49            797616    538970.0\n",
       "50            790118    753002.0\n",
       "51            538970    940218.0\n",
       "52            753002         NaN\n",
       "53            940218         NaN"
      ]
     },
     "execution_count": 81,
     "metadata": {},
     "output_type": "execute_result"
    }
   ],
   "source": [
    "#create variable to predict x years into the future\n",
    "future_years = 2\n",
    "#create a new column (target) shifted to x years up \n",
    "df2['Prediction'] = df2[['Total Number(TN)']].shift(-future_years)\n",
    "df2.tail()"
   ]
  },
  {
   "cell_type": "code",
   "execution_count": 82,
   "id": "e6484e0e",
   "metadata": {},
   "outputs": [
    {
     "data": {
      "text/plain": [
       "array([[  9526],\n",
       "       [  9388],\n",
       "       [ 12567],\n",
       "       [ 18093],\n",
       "       [ 24209],\n",
       "       [ 34901],\n",
       "       [ 45970],\n",
       "       [ 49914],\n",
       "       [ 52930],\n",
       "       [ 68047],\n",
       "       [ 89838],\n",
       "       [ 92440],\n",
       "       [105108],\n",
       "       [129329],\n",
       "       [156123],\n",
       "       [162276],\n",
       "       [162897],\n",
       "       [161669],\n",
       "       [175448],\n",
       "       [179405],\n",
       "       [176634],\n",
       "       [180989],\n",
       "       [223331],\n",
       "       [248080],\n",
       "       [265943],\n",
       "       [239945],\n",
       "       [254885],\n",
       "       [292995],\n",
       "       [334353],\n",
       "       [293567],\n",
       "       [326531],\n",
       "       [363395],\n",
       "       [393613],\n",
       "       [421857],\n",
       "       [463684],\n",
       "       [491504],\n",
       "       [463646],\n",
       "       [361237],\n",
       "       [275468],\n",
       "       [338132],\n",
       "       [385297],\n",
       "       [375398],\n",
       "       [383926],\n",
       "       [526705],\n",
       "       [500277],\n",
       "       [509956],\n",
       "       [602867],\n",
       "       [736215],\n",
       "       [803092],\n",
       "       [797616],\n",
       "       [790118],\n",
       "       [538970]], dtype=int64)"
      ]
     },
     "execution_count": 82,
     "metadata": {},
     "output_type": "execute_result"
    }
   ],
   "source": [
    "#create a data set 'X' and convert into numpy array and remove the alst 'x' years\n",
    "X = np.array(df2.drop(columns = 'Prediction'))[:-future_years]\n",
    "X"
   ]
  },
  {
   "cell_type": "code",
   "execution_count": 83,
   "id": "683ec805",
   "metadata": {},
   "outputs": [
    {
     "name": "stdout",
     "output_type": "stream",
     "text": [
      "[ 12567.  18093.  24209.  34901.  45970.  49914.  52930.  68047.  89838.\n",
      "  92440. 105108. 129329. 156123. 162276. 162897. 161669. 175448. 179405.\n",
      " 176634. 180989. 223331. 248080. 265943. 239945. 254885. 292995. 334353.\n",
      " 293567. 326531. 363395. 393613. 421857. 463684. 491504. 463646. 361237.\n",
      " 275468. 338132. 385297. 375398. 383926. 526705. 500277. 509956. 602867.\n",
      " 736215. 803092. 797616. 790118. 538970. 753002. 940218.]\n"
     ]
    }
   ],
   "source": [
    "#create the target data set 'y' and convert it to numpy array and get all the target values excpet 'x' years\n",
    "y = np.array(df2['Prediction'])[:-future_years]\n",
    "print(y)"
   ]
  },
  {
   "cell_type": "code",
   "execution_count": 84,
   "id": "eca570df",
   "metadata": {},
   "outputs": [],
   "source": [
    "#split the data into 75% training and 25% testing\n",
    "x_train, x_test, y_train, y_test = train_test_split(X, y, test_size = 0.25)"
   ]
  },
  {
   "cell_type": "code",
   "execution_count": 85,
   "id": "849f388e",
   "metadata": {},
   "outputs": [],
   "source": [
    "#create the models\n",
    "#create the decision tree regressor\n",
    "tree = DecisionTreeRegressor().fit(x_train, y_train)"
   ]
  },
  {
   "cell_type": "code",
   "execution_count": 86,
   "id": "638a52ce",
   "metadata": {},
   "outputs": [
    {
     "data": {
      "text/plain": [
       "array([[790118],\n",
       "       [538970]], dtype=int64)"
      ]
     },
     "execution_count": 86,
     "metadata": {},
     "output_type": "execute_result"
    }
   ],
   "source": [
    "#get the 'x' years of future data sets\n",
    "x_future = df2.drop(columns = 'Prediction')[:-future_years]\n",
    "x_future = x_future.tail(future_years)\n",
    "x_future = np.array(x_future)\n",
    "x_future"
   ]
  },
  {
   "cell_type": "code",
   "execution_count": 88,
   "id": "21d1664a",
   "metadata": {},
   "outputs": [
    {
     "name": "stdout",
     "output_type": "stream",
     "text": [
      "[753002. 940218.]\n"
     ]
    }
   ],
   "source": [
    "#show the model tree prediction\n",
    "tree_prediction = tree.predict(x_future)\n",
    "print(tree_prediction)"
   ]
  }
 ],
 "metadata": {
  "kernelspec": {
   "display_name": "Python 3 (ipykernel)",
   "language": "python",
   "name": "python3"
  },
  "language_info": {
   "codemirror_mode": {
    "name": "ipython",
    "version": 3
   },
   "file_extension": ".py",
   "mimetype": "text/x-python",
   "name": "python",
   "nbconvert_exporter": "python",
   "pygments_lexer": "ipython3",
   "version": "3.11.5"
  }
 },
 "nbformat": 4,
 "nbformat_minor": 5
}
